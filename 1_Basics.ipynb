{
 "cells": [
  {
   "cell_type": "markdown",
   "id": "963db205-35eb-433a-b8b3-68f8968715be",
   "metadata": {
    "tags": []
   },
   "source": [
    "# <h1><b>Python for Life Sciences</b></h1>\n",
    "\n",
    "***"
   ]
  },
  {
   "cell_type": "markdown",
   "id": "9debaa6f-a1d5-4714-a3c7-cb6e089c6e18",
   "metadata": {
    "jp-MarkdownHeadingCollapsed": true,
    "tags": []
   },
   "source": [
    "# *Introduction*\n",
    "\n",
    "Python is a flexible programming language that has been broadly accepted for research in the life sciences especially to organise and make sense of the huge amount of data already available and also generated daily. \n",
    "\n",
    "The main reasons for the popularity of Python are:\n",
    "\n",
    " - its abilities to process, analyse and visualize data. \n",
    " - it is easy to learn, and \n",
    " - it lets users fulfil many duties with few lines of code.\n",
    "    \n",
    "In this notebook you'll first get introduced to basic concepts for programming with Python. \n",
    "\n",
    "**At the end of this session, you'll know:**\n",
    " - Basic data types in Python\n",
    " - How to operate upon these data types\n",
    "\n",
    "The interactive nature of this notebook lets you follow along with your own code and try out new things with Python.  You will hear people referring to Python as Python3.  Python3 is the latest version of Python and the one we are using.\n"
   ]
  },
  {
   "cell_type": "markdown",
   "id": "eeab083d-a7a7-4813-a9df-9d7c9d008576",
   "metadata": {
    "tags": []
   },
   "source": [
    "# *Required Basic Ideas in Python*\n",
    "   - Identifiers\n",
    "   - Numbers\n",
    "   - Strings\n",
    "   - Lists\n",
    "   - Tuples\n",
    "   - Sets\n",
    "   - Dictionaries\n",
    "   - Classes\n",
    "   - Functions\n",
    "\n"
   ]
  },
  {
   "cell_type": "code",
   "execution_count": 1,
   "id": "eb1caadb-041b-408b-988a-18a204ba2c7e",
   "metadata": {
    "tags": []
   },
   "outputs": [
    {
     "data": {
      "text/plain": [
       "30"
      ]
     },
     "execution_count": 1,
     "metadata": {},
     "output_type": "execute_result"
    }
   ],
   "source": [
    "#A Simple Command for The Length of A String\n",
    "len('MNKMDLVADVAEKTDLSKAKATEVIDAVFA')"
   ]
  },
  {
   "cell_type": "markdown",
   "id": "954a3fdf-23ee-4c71-ab8a-69e9d3023428",
   "metadata": {},
   "source": [
    "## **Identifiers**\n",
    "\n",
    "A Python identifier is a name used to identify any object. An official identifier either begins with any letter (A to Z or a to z) or starts with an underscore(_)that is followed by a letter or number(0 to 9).\n",
    "\n",
    "Punctuation symbols such as @, $, and % are not allowed within Python identifiers. Python is a **case-sensitive programming** language; hence, **Standard** and **standard** are two separate identifiers in Python. \n",
    "Given below are the name conventions for Python identifiers that coordinate with the syntax:\n",
    "- Class names begin with an upper-case letter; all other identifiers can start with a lower-case letter.\n",
    "- The beginning of an identifier with one underscore represents a private identifier.\n",
    "- The beginning of an identifier with two underscores represents an extremely private identifier.\n",
    "- If the identifier also ends with two underscores, it indicates a language-defined special name."
   ]
  },
  {
   "cell_type": "markdown",
   "id": "4a053ad2-c8bd-47d2-a748-7679a0f559ad",
   "metadata": {},
   "source": [
    "## **Numbers**\n",
    "These data types are different numeric values that can be used to deal with all kinds of mathematical calculations. Numbers are represented in various forms:\n",
    "- *Integer*: A whole number (with + or - predominant symbols).\n",
    "- *Long*: A whole number with an extensive digit size.\n",
    "- *Float*: A real number having a decimal point.\n",
    "- *Complex*: An imaginary number, given through square root of (-1).\n",
    "\n",
    "### **Basic operations**\n",
    "Here are a few valid examples of Basic Operations with Real Number inputs and outputs:"
   ]
  },
  {
   "cell_type": "code",
   "execution_count": 2,
   "id": "c9522471-4e39-48e4-8bb3-bab04bf254ce",
   "metadata": {},
   "outputs": [
    {
     "name": "stdout",
     "output_type": "stream",
     "text": [
      "Sum of x and y:  7\n",
      "Difference of x and y:  -1\n",
      "Product of a and b:  10\n",
      "Integer quotient of a and b:  2\n",
      "Floating point quotient of a and b:  2.5\n",
      "--------------------------\n",
      "Floating point quotient of e and f:  3999.9999999999995\n"
     ]
    }
   ],
   "source": [
    "x, y = 3, 4   ## Python allows multiple assignments!\n",
    "a, b = 5, 2\n",
    "\n",
    "print(\"Sum of x and y: \",x+y)  # Addition\n",
    "print(\"Difference of x and y: \", x-y)  # Subtraction\n",
    "print(\"Product of a and b: \", a*b)  # Product\n",
    "print(\"Integer quotient of a and b: \", a//b) # Note the // operator for integer division\n",
    "print(\"Floating point quotient of a and b: \", a/b)  # Floating point division\n",
    "print(\"--------------------------\")\n",
    "\n",
    "# Floating point numbers\n",
    "e = 4e-2; f = 1e-5 # product of a mantissa and 10 raised to an exponent\n",
    "print(\"Floating point quotient of e and f: \", e/f)  # Floating point division\n"
   ]
  },
  {
   "cell_type": "markdown",
   "id": "42f4e1c1-7070-4af0-996a-cdd8d01ea9c3",
   "metadata": {},
   "source": [
    "You might have expected 4000 as the answer (and correctly so) but floating point calculations have small rounding errors that are unavoidable.  Python offers the **_round()_** function to round decimals to a certain precision.  For instance, the following code snippet rounds our quotient to two places of decimal."
   ]
  },
  {
   "cell_type": "code",
   "execution_count": 3,
   "id": "4e16e64d-b80a-483c-b54d-0362d654752b",
   "metadata": {},
   "outputs": [
    {
     "name": "stdout",
     "output_type": "stream",
     "text": [
      "Floating point quotient of e and f:  4000.0\n"
     ]
    }
   ],
   "source": [
    "print(\"Floating point quotient of e and f: \", round(e/f,2))  # Floating point division"
   ]
  },
  {
   "cell_type": "markdown",
   "id": "cf61c576-2ae9-4039-a849-c7340a748f56",
   "metadata": {},
   "source": [
    "#### **Method to Deal with Division by Zero(0)**\n",
    "Division by 0 is invalid. But there is a way to handle it!!"
   ]
  },
  {
   "cell_type": "code",
   "execution_count": 4,
   "id": "6a33ed39-4ea7-44f6-b15a-77fa591b369a",
   "metadata": {},
   "outputs": [
    {
     "ename": "ZeroDivisionError",
     "evalue": "division by zero",
     "output_type": "error",
     "traceback": [
      "\u001b[0;31m---------------------------------------------------------------------------\u001b[0m",
      "\u001b[0;31mZeroDivisionError\u001b[0m                         Traceback (most recent call last)",
      "\u001b[0;32m/tmp/ipykernel_12381/532771609.py\u001b[0m in \u001b[0;36m<module>\u001b[0;34m\u001b[0m\n\u001b[1;32m      1\u001b[0m \u001b[0mx\u001b[0m \u001b[0;34m=\u001b[0m \u001b[0;36m5\u001b[0m\u001b[0;34m;\u001b[0m \u001b[0my\u001b[0m \u001b[0;34m=\u001b[0m \u001b[0;36m0\u001b[0m   \u001b[0;31m## Note multiple statements on a line\u001b[0m\u001b[0;34m\u001b[0m\u001b[0;34m\u001b[0m\u001b[0m\n\u001b[1;32m      2\u001b[0m \u001b[0;31m# Let us divide by 0 and see what happens\u001b[0m\u001b[0;34m\u001b[0m\u001b[0;34m\u001b[0m\u001b[0;34m\u001b[0m\u001b[0m\n\u001b[0;32m----> 3\u001b[0;31m \u001b[0mx\u001b[0m\u001b[0;34m/\u001b[0m\u001b[0my\u001b[0m\u001b[0;34m\u001b[0m\u001b[0;34m\u001b[0m\u001b[0m\n\u001b[0m",
      "\u001b[0;31mZeroDivisionError\u001b[0m: division by zero"
     ]
    }
   ],
   "source": [
    "x = 5; y = 0   ## Note multiple statements on a line\n",
    "# Let us divide by 0 and see what happens\n",
    "x/y"
   ]
  },
  {
   "cell_type": "markdown",
   "id": "5245b473-02c9-4939-896b-9e2e5c321138",
   "metadata": {
    "tags": []
   },
   "source": [
    "As expected we got an error.  In Python lingo this is called an `exception` and Python has techniques to handle such errors that cause surprise exits in your program.\n",
    "\n",
    "Let us try the same division by 0 but this time with more graceful handling of the error."
   ]
  },
  {
   "cell_type": "code",
   "execution_count": null,
   "id": "8d867601-1348-4b51-9b1e-8cf76ecf457f",
   "metadata": {},
   "outputs": [],
   "source": [
    "try: \n",
    "    print(x/y)\n",
    "except:\n",
    "    print(\"Division by 0 is not allowed!\")"
   ]
  },
  {
   "cell_type": "markdown",
   "id": "86fe499d-e9fd-4639-a47b-87bb56634733",
   "metadata": {},
   "source": [
    "This was basic _exception handling_. The division by zero was the 'exception'."
   ]
  },
  {
   "cell_type": "markdown",
   "id": "671c1164-927d-4064-a07f-f2d2acb54509",
   "metadata": {
    "tags": []
   },
   "source": [
    "#### **Complex numbers**\n",
    "Complex numbers have a real and an imaginary part and find use in certain research disciplines."
   ]
  },
  {
   "cell_type": "code",
   "execution_count": 24,
   "id": "bbe2a463-11d4-430c-8644-46f7b1aa750f",
   "metadata": {},
   "outputs": [
    {
     "name": "stdout",
     "output_type": "stream",
     "text": [
      "Real and Imaginary parts:  1.0 4.0\n",
      "Complex conjugate:  (1-2j)\n",
      "Product:  (-5+10j)\n",
      "Quotient:  (0.44+0.08j)\n"
     ]
    }
   ],
   "source": [
    "z1 = complex(1,2)\n",
    "z2 = complex(3,4)\n",
    "print(\"Real and Imaginary parts: \",z1.real, z2.imag)\n",
    "print(\"Complex conjugate: \", z1.conjugate())\n",
    "print(\"Product: \", z1*z2)\n",
    "print(\"Quotient: \", z1/z2)"
   ]
  },
  {
   "cell_type": "markdown",
   "id": "045fe8b8-8f28-4711-be2a-042db43db1e7",
   "metadata": {},
   "source": [
    "#### **Logical Operations**\n",
    "- Python normally deals with 'truth values'. \n",
    "- Truth values rely on valid mathematical laws with _Boolean Logic_.\n",
    "- The standard _Boolean operators_ are **not**, **and**, and **or**.\n",
    "- The operators cannot be replaced by any special symbols in Python.\n",
    "\n",
    "Given below is a list of operators that can be used for _Boolean Expressions_."
   ]
  },
  {
   "cell_type": "code",
   "execution_count": 25,
   "id": "4f6c506b-914b-4e65-83bb-dfd011b5e01d",
   "metadata": {},
   "outputs": [
    {
     "name": "stdout",
     "output_type": "stream",
     "text": [
      "False\n",
      "True\n",
      "True\n",
      "False\n",
      "False\n",
      "True\n",
      "True\n",
      "True\n",
      "False\n"
     ]
    }
   ],
   "source": [
    "#Opposite results\n",
    "print(not True)  # False\n",
    "print(not False) # True\n",
    "\n",
    "#Valid Set of Options only when All are True.   \n",
    "print(True and True) # True\n",
    "print(True and False) # False\n",
    "print(False and False) # False\n",
    "\n",
    "#Options provided from which a True option is preferred to be the result.\n",
    "print(True or True) # True                 \n",
    "print(True or False) # True\n",
    "print(False or True) # True\n",
    "print(False or False) # False"
   ]
  },
  {
   "cell_type": "markdown",
   "id": "76c5b731-4597-4f55-9edb-2194aec3d061",
   "metadata": {},
   "source": [
    "### **Comparison Operators**\n",
    "Six valid _Comparison Operators_ (with Boolean Results) exist apart from Boolean Operators. The list of symbols that give Boolean Results is as follows:\n",
    "[==, >, >=, !=, <=, <]. \n",
    "The logical and comparison operations require practice for familiarity. This may involve the use of the Python Interpreter until It becomes entirely reasonable.\n",
    "\n",
    "The operations can be used often. Given are few examples of applications:"
   ]
  },
  {
   "cell_type": "code",
   "execution_count": 26,
   "id": "06315281-ab9e-4b3b-a9ac-a63f7d314c7e",
   "metadata": {},
   "outputs": [
    {
     "data": {
      "text/plain": [
       "False"
      ]
     },
     "execution_count": 26,
     "metadata": {},
     "output_type": "execute_result"
    }
   ],
   "source": [
    "3 == 7//2  #checks if the first given value is equal to the quotient of the latter calculation\n",
    "4 > 14%5   #checks if the former value is greater than the remainder of the latter calculation\n",
    "\n",
    "#symbol checks inequality or disparity\n",
    "'five' != 'three'\n",
    "'two' != 'two' \n",
    "\n",
    "#Given Output represents the Final Result of the last example."
   ]
  },
  {
   "cell_type": "markdown",
   "id": "84d46912-6c89-4870-80ba-3eb04c645556",
   "metadata": {
    "tags": []
   },
   "source": [
    "### Your turn now!\n",
    "\n",
    "Do this short quiz to test your understanding.\n",
    "\n",
    "1. Add 1 and 2.5.  What do you get?\n",
    "\n",
    "2. Subtract 2 from 4. What is the difference?\n",
    "\n",
    "3. Multiply 3 with 5.2. What is the product?\n",
    "\n",
    "4. Divide 9.1 by 4. What is the quotient?\n"
   ]
  },
  {
   "cell_type": "code",
   "execution_count": 30,
   "id": "88b1b1e0-a400-495a-a789-52d95d30fd1f",
   "metadata": {},
   "outputs": [
    {
     "name": "stdout",
     "output_type": "stream",
     "text": [
      "3.5\n",
      "2\n",
      "15.600000000000001\n",
      "2.275\n"
     ]
    }
   ],
   "source": [
    "# Your code here (as u like)!!!\n",
    "print(1+2.5)         #(1.)\n",
    "print(4-2)           #(2.)\n",
    "print(3*5.2)         #(3.)\n",
    "print(9.1/4)         #(4.)"
   ]
  },
  {
   "cell_type": "markdown",
   "id": "eb586f76-af6d-4c35-a549-6f9649bcca42",
   "metadata": {},
   "source": [
    "## **Strings**\n",
    "Strings are the most commonly used data type in any programming language, including Python. Plainly explained, strings are printable characters shown within quotes."
   ]
  },
  {
   "cell_type": "code",
   "execution_count": 31,
   "id": "f18ca130-0c34-4623-9784-83d946a3fd58",
   "metadata": {},
   "outputs": [
    {
     "name": "stdout",
     "output_type": "stream",
     "text": [
      "Sample string\n"
     ]
    }
   ],
   "source": [
    "# A string-syntax sample in Python:\n",
    "example = \"Sample string\"\n",
    "print(example)"
   ]
  },
  {
   "cell_type": "markdown",
   "id": "c0847a03-77f3-4ee1-b46f-d46555059adc",
   "metadata": {},
   "source": [
    "## **String Operations**\n",
    "Four binary operators act on strings: *in*, *not in*, *+*, and _*_.\n",
    "The first three operators require both components(operands) to be valid strings. The fourth operator can work for a string or an integer.\n",
    "A single-charactered substring (part of a string) can be taken by subscription and a longer substring by slicing. Both operations can be observed using square brackets."
   ]
  },
  {
   "cell_type": "markdown",
   "id": "65c84c0e-95be-4d71-9d49-dc185c194c9a",
   "metadata": {},
   "source": [
    "### **String Operators**\n",
    "The _in_ and _not in_ operators check if the first string is a part of the latter one (present at any position). The final result of these operators is either _True_ or _False_.\n",
    "\n",
    "Here are examples of valid applications of such String Operators:\n"
   ]
  },
  {
   "cell_type": "code",
   "execution_count": 32,
   "id": "9bd658ea-a190-4fde-99b2-e05eb49e8b32",
   "metadata": {},
   "outputs": [
    {
     "data": {
      "text/plain": [
       "False"
      ]
     },
     "execution_count": 32,
     "metadata": {},
     "output_type": "execute_result"
    }
   ],
   "source": [
    "#checks Presence of former string(codon) within latter one(genetic sequence) at last line\n",
    "'AGT' in 'ACGCATAGTCATG'   \n",
    "'ATT' in 'ACGCATAGTCATG' "
   ]
  },
  {
   "cell_type": "code",
   "execution_count": 33,
   "id": "29ac96ac-033d-4528-b9dd-733ecb9e7c04",
   "metadata": {},
   "outputs": [
    {
     "data": {
      "text/plain": [
       "True"
      ]
     },
     "execution_count": 33,
     "metadata": {},
     "output_type": "execute_result"
    }
   ],
   "source": [
    "#checks Absence of former string(codon) within latter one(genetic sequence) at last line\n",
    "'AGT' not in 'ACGCATAGTCATG'   \n",
    "'ATT' not in 'ACGCATAGTCATG' "
   ]
  },
  {
   "cell_type": "markdown",
   "id": "c63ed696-ca7a-47a4-9613-833561725d3f",
   "metadata": {},
   "source": [
    "#### **Symbolic Operators that work with Strings:**\n",
    "These are examples of number operations we can perform on strings:"
   ]
  },
  {
   "cell_type": "code",
   "execution_count": 34,
   "id": "068e6044-4588-44e6-acb0-05ac3ef53f32",
   "metadata": {},
   "outputs": [
    {
     "name": "stdout",
     "output_type": "stream",
     "text": [
      "Concatenation:  Hello World\n",
      "Case conversion:  HELLO WORLD\n",
      "String reversal:  olleH dlroW\n",
      "String reversal:  dlroW olleH\n"
     ]
    }
   ],
   "source": [
    "str1 = \"Hello\"; str2 = \"World\"\n",
    "print(\"Concatenation: \", str1+\" \"+str2) # Note the insertion of a blank space between words\n",
    "print(\"Case conversion: \", str1.upper()+\" \"+str2.upper())\n",
    "print(\"String reversal: \", str1[::-1] + \" \" + str2[::-1]) # Reverse and then concatenate\n",
    "print(\"String reversal: \", (str1 + \" \" + str2)[::-1]) # Concatenate and then reverse\n",
    "\n",
    "# We will have to wait a bit to understand this 'strange' notation"
   ]
  },
  {
   "cell_type": "markdown",
   "id": "c7577a37-df08-48dc-8809-e7f08d641796",
   "metadata": {},
   "source": [
    "##### **Concatenation**\n",
    "_Concatenation_ is the process that joins or links sequences end to end. \n",
    "\n",
    "_Concatemer/Concatenate_ were initially synonyms for an intermediate structure during the biosynthesis of certain DNA viruses, with many\n",
    "genomes connected together end to end, and treated like the immediate precursor to the mature viral genome. \n",
    "\n",
    "The term(_Concatenate_) is now generalized to include any linear or circular DNA structure composed of viral genomes joined end to end. The term is also used for circular DNAs which are physically inseparable, one being threaded through the other.  \n",
    "Examples of Concatenation (alongwith other number operations) using general string -- given above.\n",
    "Examples of Concatenation using biological sequences (Python string syntax) are given below. "
   ]
  },
  {
   "cell_type": "code",
   "execution_count": 35,
   "id": "a3744084-1085-47a6-b9de-515c64fa97b9",
   "metadata": {},
   "outputs": [
    {
     "data": {
      "text/plain": [
       "'TCAG'"
      ]
     },
     "execution_count": 35,
     "metadata": {},
     "output_type": "execute_result"
    }
   ],
   "source": [
    "'TC'+'AG'     #Short Sequence pair Concatenation"
   ]
  },
  {
   "cell_type": "code",
   "execution_count": 36,
   "id": "d8a05414-1629-41c0-9697-a4b640b90e6a",
   "metadata": {},
   "outputs": [
    {
     "data": {
      "text/plain": [
       "'tttcccaaaggg'"
      ]
     },
     "execution_count": 36,
     "metadata": {},
     "output_type": "execute_result"
    }
   ],
   "source": [
    "'ttt' + 'ccc' + 'aaa' + 'ggg'  #Lower Case Longer Sequence Concatenation "
   ]
  },
  {
   "cell_type": "markdown",
   "id": "bcda401a-d9d4-482f-9413-a383d1698cfa",
   "metadata": {},
   "source": [
    "##### **Multiplication**\n",
    "A string can be repeated a specific number of times by multiplying it by an integer:\n",
    "\n",
    "**A Commutative Process that occurs in any Order**"
   ]
  },
  {
   "cell_type": "code",
   "execution_count": 37,
   "id": "577807dd-4f43-4153-9c7e-737f18ae2690",
   "metadata": {
    "tags": []
   },
   "outputs": [
    {
     "data": {
      "text/plain": [
       "'TCTCTCTCTCTC'"
      ]
     },
     "execution_count": 37,
     "metadata": {},
     "output_type": "execute_result"
    }
   ],
   "source": [
    "'TC' * 12  \n",
    "\n",
    "6 * 'TC'"
   ]
  },
  {
   "cell_type": "markdown",
   "id": "cbfa25fd-dfea-4c6c-90cd-03f46de03718",
   "metadata": {},
   "source": [
    "### **Subscription**\n",
    "_Subscription_ is a process that pulls out a one-component substring of a string. The extraction is depicted with a pair of square brackets enclosing an integer-valued expression called an _index_. The first component in the sequence is at position 0(not 1). "
   ]
  },
  {
   "cell_type": "code",
   "execution_count": 38,
   "id": "9aab3cc6-a1d5-496a-924f-310744bd829b",
   "metadata": {},
   "outputs": [
    {
     "data": {
      "text/plain": [
       "'N'"
      ]
     },
     "execution_count": 38,
     "metadata": {},
     "output_type": "execute_result"
    }
   ],
   "source": [
    "#Sequence Slicing Syntax(Python3 with sequence of amino acids) \n",
    "'MNKMDLVADVAEKTDLSKAKATEVIDAVFA'[0]\n",
    "\n",
    "'MNKMDLVADVAEKTDLSKAKATEVIDAVFA'[1]"
   ]
  },
  {
   "cell_type": "markdown",
   "id": "5a8a30f4-88ab-49e3-a91e-1804475ee131",
   "metadata": {},
   "source": [
    "The index can also be a negative number, in which case the index is counted from the end of the string. The last component is at index −1."
   ]
  },
  {
   "cell_type": "code",
   "execution_count": 39,
   "id": "a8a24047-b499-4193-b3ea-a9e87e2dba6a",
   "metadata": {},
   "outputs": [
    {
     "data": {
      "text/plain": [
       "'A'"
      ]
     },
     "execution_count": 39,
     "metadata": {},
     "output_type": "execute_result"
    }
   ],
   "source": [
    "#'MNKMDLVADVAEKTDLSKAKATEVIDAVFA'[7 // 2]\n",
    "'MNKMDLVADVAEKTDLSKAKATEVIDAVFA'[-1]\n",
    "#'MNKMDLVADVAEKTDLSKAKATEVIDAVFA'[-5]"
   ]
  },
  {
   "attachments": {
    "6e2e8f66-7de0-45cc-9c57-7bd1c09e2631.png": {
     "image/png": "[encoded data removed]"
    }
   },
   "cell_type": "markdown",
   "id": "f50a286b-c25c-4831-b4fd-bc116102d861",
   "metadata": {
    "tags": []
   },
   "source": [
    "![image.png](attachment:6e2e8f66-7de0-45cc-9c57-7bd1c09e2631.png)"
   ]
  },
  {
   "cell_type": "markdown",
   "id": "e103faae-4055-40ac-a125-2e40fb8d8cbd",
   "metadata": {
    "tags": []
   },
   "source": [
    "### **Slicing**\n",
    "_Slicing_ is a process that pulls out a series of components from a string. The process is often used to clearly and briefly indicate parts of strings.\n",
    "The component locations of a slice are indicated by few integers within square brackets, split by colons. The first index represents the location of the first component to be pulled out for slicing. The second index represents the slice end-point; but, the component at that location is excluded from the slice. Given framework, a slice [m:n] would hence be read as “starting from position m up to but excluding component n .”"
   ]
  },
  {
   "cell_type": "code",
   "execution_count": 40,
   "id": "b1542538-bffa-4618-a52f-0dff4d403e5a",
   "metadata": {},
   "outputs": [
    {
     "data": {
      "text/plain": [
       "'A'"
      ]
     },
     "execution_count": 40,
     "metadata": {},
     "output_type": "execute_result"
    }
   ],
   "source": [
    "#Sequence Slicing Syntax (Python3 with same sequence) \n",
    "'MNKMDLVADVAEKTDLSKAKATEVIDAVFA'[1:8]\n",
    "\n",
    "'MNKMDLVADVAEKTDLSKAKATEVIDAVFA'[7:-1]\n",
    "\n",
    "#Final command line in a cell that displays result:\n",
    "'MNKMDLVADVAEKTDLSKAKATEVIDAVFA'[-4:-3]   "
   ]
  },
  {
   "cell_type": "markdown",
   "id": "e9855dff-64e0-40d9-ac2c-82eb7785e116",
   "metadata": {},
   "source": [
    "#### **What if (m = n)?**\n",
    "When both index numbers for a sequence are equal, the final result for string slicing is usually an empty string:"
   ]
  },
  {
   "cell_type": "code",
   "execution_count": 41,
   "id": "f0729942-8a11-4bc3-a10e-8368ad140684",
   "metadata": {},
   "outputs": [
    {
     "data": {
      "text/plain": [
       "''"
      ]
     },
     "execution_count": 41,
     "metadata": {},
     "output_type": "execute_result"
    }
   ],
   "source": [
    "'MNKMDLVADVAEKTDLSKAKATEVIDAVFA'[7:7] #An example: m = n"
   ]
  },
  {
   "cell_type": "markdown",
   "id": "79b082b8-d37b-4fc9-bad5-47faa1787194",
   "metadata": {},
   "source": [
    "#### **What if (m > n)?**\n",
    "When both index numbers for a sequence are not clearly defined(i.e m > n), the final result for string slicing here too is an empty string:"
   ]
  },
  {
   "cell_type": "code",
   "execution_count": 42,
   "id": "645b05a8-25f1-4ea9-8883-42793ccf7936",
   "metadata": {},
   "outputs": [
    {
     "data": {
      "text/plain": [
       "''"
      ]
     },
     "execution_count": 42,
     "metadata": {},
     "output_type": "execute_result"
    }
   ],
   "source": [
    "'MNKMDLVADVAEKTDLSKAKATEVIDAVFA'[-7:-9] #An example: m > n"
   ]
  },
  {
   "cell_type": "markdown",
   "id": "8c523100-14c9-4f5f-93d8-62a00560c1f8",
   "metadata": {},
   "source": [
    "The rules for the process of slicing seem to be more flexible.\n",
    "\n",
    "If the slice contains the beginning or end of the string, that portion of the slice notation may be cut off. Consider the fact that cutting off the second index is not the same as providing −1 as the second index. \n",
    "Cutting off the second index says to go up to the end of the string, one past the last component; whereas −1(n) means go up to the second last component (i.e., up to but excluding the last component):"
   ]
  },
  {
   "cell_type": "code",
   "execution_count": 43,
   "id": "124362a2-e6d8-4fcb-b946-0e3ac76e8b7b",
   "metadata": {},
   "outputs": [
    {
     "data": {
      "text/plain": [
       "'MNKMDLVADVAEKTDLSKAKATEVIDAVF'"
      ]
     },
     "execution_count": 43,
     "metadata": {},
     "output_type": "execute_result"
    }
   ],
   "source": [
    "'MNKMDLVADVAEKTDLSKAKATEVIDAVFA'[:-1]\n",
    "#Result:Entire sequence,excluding the last n component(s)."
   ]
  },
  {
   "cell_type": "code",
   "execution_count": 44,
   "id": "812e34a7-98d5-4cc2-ab54-bc1b0923e93a",
   "metadata": {},
   "outputs": [
    {
     "data": {
      "text/plain": [
       "'MNKMDLVA'"
      ]
     },
     "execution_count": 44,
     "metadata": {},
     "output_type": "execute_result"
    }
   ],
   "source": [
    "'MNKMDLVADVAEKTDLSKAKATEVIDAVFA'[:8]\n",
    "#Result:First n component(s) of given sequence."
   ]
  },
  {
   "cell_type": "code",
   "execution_count": 45,
   "id": "25bd74c8-061e-4691-b6a4-3b6eb8d85963",
   "metadata": {},
   "outputs": [
    {
     "data": {
      "text/plain": [
       "'ADVAEKTDLSKAKATEVIDAVFA'"
      ]
     },
     "execution_count": 45,
     "metadata": {},
     "output_type": "execute_result"
    }
   ],
   "source": [
    "'MNKMDLVADVAEKTDLSKAKATEVIDAVFA'[7:]\n",
    "#Result:Excluding First m component(s) of given sequence."
   ]
  },
  {
   "cell_type": "code",
   "execution_count": 46,
   "id": "83594147-2a2f-48bc-b929-eb13ac73ec89",
   "metadata": {},
   "outputs": [
    {
     "data": {
      "text/plain": [
       "'ADVAEKTDLSKAKATEVIDAVF'"
      ]
     },
     "execution_count": 46,
     "metadata": {},
     "output_type": "execute_result"
    }
   ],
   "source": [
    "'MNKMDLVADVAEKTDLSKAKATEVIDAVFA'[7:-1]\n",
    "#Result:Excluding First m and last n component(s) of given sequence."
   ]
  },
  {
   "cell_type": "code",
   "execution_count": 47,
   "id": "7e8b3cd9-46f9-41e0-9021-7b7cba7d25aa",
   "metadata": {},
   "outputs": [
    {
     "data": {
      "text/plain": [
       "'MNKMDLVADVAEKTDLSKAKATEVIDAVFA'"
      ]
     },
     "execution_count": 47,
     "metadata": {},
     "output_type": "execute_result"
    }
   ],
   "source": [
    "'MNKMDLVADVAEKTDLSKAKATEVIDAVFA'[:]\n",
    "#Result: Entire string (for no index)"
   ]
  },
  {
   "cell_type": "markdown",
   "id": "319aec79-1f22-4dac-9a51-4f4eafbe12f4",
   "metadata": {},
   "source": [
    "#### **Three indexes in String Slicing Syntax (m:n:o)**\n",
    "As explained before, the final sequence result starts from component m(start index), ends at n(stop index) and contains every o^th component of the given sequence (between m and n).The third index(o) shows the number of components to skip after each one that is taken, known as a _step_. When the third index is absent, as usual, the default step is 1, meaning no skip. \n",
    "An example:"
   ]
  },
  {
   "cell_type": "code",
   "execution_count": 48,
   "id": "53dacf91-eb00-4824-aacc-43339cdf3e39",
   "metadata": {},
   "outputs": [
    {
     "data": {
      "text/plain": [
       "'MKDVD'"
      ]
     },
     "execution_count": 48,
     "metadata": {},
     "output_type": "execute_result"
    }
   ],
   "source": [
    "'MNKMDLVADVAEKTDLSKAKATEVIDAVFA'[0:9:2]\n",
    "#Result: Every even(second) component between m(0) and n(9)."
   ]
  },
  {
   "cell_type": "markdown",
   "id": "41775e2d-4f6d-4eac-ab7e-aac294be229e",
   "metadata": {},
   "source": [
    "##### **What for a Negative Step(o)?**\n",
    "The step(o) may be a negative integer. When the step is negative,the slice takes components from the sequence in reverse order. In order to get a valid result, when a negative step is given, the start index should be greater than the stop index(i.e m > n). The final result excludes component at the stop index(n).\n",
    "\n",
    "###### **What if the Stop Index(n) is not given?**\n",
    "When the Stop index is absent, a longer sequence (with a negative step) is made as the final result in this case.\n",
    "\n",
    "###### **What if the First Index(m) is absent?**\n",
    "When the Start index is not there, the slicing protocol(with a negative step) begins from the last component.\n",
    "\n",
    "###### **Entire Sequence Reversal**\n",
    "An entirely reversed sequence can be produced by ensuring the absence of two indexes(m and n), along with the presence of a negative step.\n",
    "\n",
    "Diverse Examples for a Negative Step:"
   ]
  },
  {
   "cell_type": "code",
   "execution_count": 49,
   "id": "89891e3e-5974-4a84-b3aa-0380bcb80aef",
   "metadata": {},
   "outputs": [
    {
     "data": {
      "text/plain": [
       "'LKVVM'"
      ]
     },
     "execution_count": 49,
     "metadata": {},
     "output_type": "execute_result"
    }
   ],
   "source": [
    "'MNKMDLVADVAEKTDLSKAKATEVIDAVFA'[15:0:-3]\n",
    "#Result:Every third, backward component between m(15) and n(0)"
   ]
  },
  {
   "cell_type": "code",
   "execution_count": 50,
   "id": "3a79dc8b-af1a-4b30-ae52-6401443a8fa0",
   "metadata": {},
   "outputs": [
    {
     "data": {
      "text/plain": [
       "'LKVVMM'"
      ]
     },
     "execution_count": 50,
     "metadata": {},
     "output_type": "execute_result"
    }
   ],
   "source": [
    "'MNKMDLVADVAEKTDLSKAKATEVIDAVFA'[15::-3] # No Stop Index\n",
    "#Result:Longer sequence with same rules"
   ]
  },
  {
   "cell_type": "code",
   "execution_count": 51,
   "id": "8c078d14-2340-4b20-a08f-f4fc9ed7bd47",
   "metadata": {},
   "outputs": [
    {
     "data": {
      "text/plain": [
       "'AFV'"
      ]
     },
     "execution_count": 51,
     "metadata": {},
     "output_type": "execute_result"
    }
   ],
   "source": [
    "'MNKMDLVADVAEKTDLSKAKATEVIDAVFA'[:26:-1] # No First Index\n",
    "#Result:Slicing from the end, upto n^th component of sequence"
   ]
  },
  {
   "cell_type": "code",
   "execution_count": 52,
   "id": "54af1f29-c5e0-435c-b656-604c907dd5cb",
   "metadata": {},
   "outputs": [
    {
     "data": {
      "text/plain": [
       "'AFVADIVETAKAKSLDTKEAVDAVLDMKNM'"
      ]
     },
     "execution_count": 52,
     "metadata": {},
     "output_type": "execute_result"
    }
   ],
   "source": [
    "'MNKMDLVADVAEKTDLSKAKATEVIDAVFA'[::-1] # Only Third Index\n",
    "#Result:Entirely reversed sequence"
   ]
  },
  {
   "attachments": {
    "d8d97acf-c9af-4e0e-9765-1563f5296d0b.png": {
     "image/png": "[encoded data removed]"
    }
   },
   "cell_type": "markdown",
   "id": "cb01fdc7-d862-4f01-8539-f5232ff30931",
   "metadata": {},
   "source": [
    "![image.png](attachment:d8d97acf-c9af-4e0e-9765-1563f5296d0b.png)"
   ]
  },
  {
   "cell_type": "markdown",
   "id": "fb098e89-6fa6-498a-af7e-7ddebf786d9a",
   "metadata": {},
   "source": [
    "### **Lexical Comparison in Python**\n",
    "This process involves a set of string elements. The lexical sort or comparison of each string component in a set is done on the basis of its name (ascending alphabetical order)."
   ]
  },
  {
   "cell_type": "code",
   "execution_count": 22,
   "id": "4e66ab11-48a8-42cf-9181-964eca5691cc",
   "metadata": {},
   "outputs": [
    {
     "name": "stdout",
     "output_type": "stream",
     "text": [
      "['eight', 'five', 'four', 'one', 'seven', 'six', 'three', 'two']\n"
     ]
    },
    {
     "data": {
      "text/plain": [
       "True"
      ]
     },
     "execution_count": 22,
     "metadata": {},
     "output_type": "execute_result"
    }
   ],
   "source": [
    "arr = ['one', 'two', 'three','four','five','six','seven','eight']\n",
    "arr.sort()\n",
    "print(arr)     #final output based on ascending alphabetical lexical sort of given word array.\n",
    "\n",
    "'three' > 'eight'   #comparison based on lexical properties of both words in sorted array."
   ]
  },
  {
   "cell_type": "code",
   "execution_count": 23,
   "id": "c0ded1cb-321f-4cc4-9e97-fb1ec860480f",
   "metadata": {
    "scrolled": true,
    "tags": []
   },
   "outputs": [
    {
     "name": "stdout",
     "output_type": "stream",
     "text": [
      "Help on class str in module builtins:\n",
      "\n",
      "class str(object)\n",
      " |  str(object='') -> str\n",
      " |  str(bytes_or_buffer[, encoding[, errors]]) -> str\n",
      " |  \n",
      " |  Create a new string object from the given object. If encoding or\n",
      " |  errors is specified, then the object must expose a data buffer\n",
      " |  that will be decoded using the given encoding and error handler.\n",
      " |  Otherwise, returns the result of object.__str__() (if defined)\n",
      " |  or repr(object).\n",
      " |  encoding defaults to sys.getdefaultencoding().\n",
      " |  errors defaults to 'strict'.\n",
      " |  \n",
      " |  Methods defined here:\n",
      " |  \n",
      " |  __add__(self, value, /)\n",
      " |      Return self+value.\n",
      " |  \n",
      " |  __contains__(self, key, /)\n",
      " |      Return key in self.\n",
      " |  \n",
      " |  __eq__(self, value, /)\n",
      " |      Return self==value.\n",
      " |  \n",
      " |  __format__(self, format_spec, /)\n",
      " |      Return a formatted version of the string as described by format_spec.\n",
      " |  \n",
      " |  __ge__(self, value, /)\n",
      " |      Return self>=value.\n",
      " |  \n",
      " |  __getattribute__(self, name, /)\n",
      " |      Return getattr(self, name).\n",
      " |  \n",
      " |  __getitem__(self, key, /)\n",
      " |      Return self[key].\n",
      " |  \n",
      " |  __getnewargs__(...)\n",
      " |  \n",
      " |  __gt__(self, value, /)\n",
      " |      Return self>value.\n",
      " |  \n",
      " |  __hash__(self, /)\n",
      " |      Return hash(self).\n",
      " |  \n",
      " |  __iter__(self, /)\n",
      " |      Implement iter(self).\n",
      " |  \n",
      " |  __le__(self, value, /)\n",
      " |      Return self<=value.\n",
      " |  \n",
      " |  __len__(self, /)\n",
      " |      Return len(self).\n",
      " |  \n",
      " |  __lt__(self, value, /)\n",
      " |      Return self<value.\n",
      " |  \n",
      " |  __mod__(self, value, /)\n",
      " |      Return self%value.\n",
      " |  \n",
      " |  __mul__(self, value, /)\n",
      " |      Return self*value.\n",
      " |  \n",
      " |  __ne__(self, value, /)\n",
      " |      Return self!=value.\n",
      " |  \n",
      " |  __repr__(self, /)\n",
      " |      Return repr(self).\n",
      " |  \n",
      " |  __rmod__(self, value, /)\n",
      " |      Return value%self.\n",
      " |  \n",
      " |  __rmul__(self, value, /)\n",
      " |      Return value*self.\n",
      " |  \n",
      " |  __sizeof__(self, /)\n",
      " |      Return the size of the string in memory, in bytes.\n",
      " |  \n",
      " |  __str__(self, /)\n",
      " |      Return str(self).\n",
      " |  \n",
      " |  capitalize(self, /)\n",
      " |      Return a capitalized version of the string.\n",
      " |      \n",
      " |      More specifically, make the first character have upper case and the rest lower\n",
      " |      case.\n",
      " |  \n",
      " |  casefold(self, /)\n",
      " |      Return a version of the string suitable for caseless comparisons.\n",
      " |  \n",
      " |  center(self, width, fillchar=' ', /)\n",
      " |      Return a centered string of length width.\n",
      " |      \n",
      " |      Padding is done using the specified fill character (default is a space).\n",
      " |  \n",
      " |  count(...)\n",
      " |      S.count(sub[, start[, end]]) -> int\n",
      " |      \n",
      " |      Return the number of non-overlapping occurrences of substring sub in\n",
      " |      string S[start:end].  Optional arguments start and end are\n",
      " |      interpreted as in slice notation.\n",
      " |  \n",
      " |  encode(self, /, encoding='utf-8', errors='strict')\n",
      " |      Encode the string using the codec registered for encoding.\n",
      " |      \n",
      " |      encoding\n",
      " |        The encoding in which to encode the string.\n",
      " |      errors\n",
      " |        The error handling scheme to use for encoding errors.\n",
      " |        The default is 'strict' meaning that encoding errors raise a\n",
      " |        UnicodeEncodeError.  Other possible values are 'ignore', 'replace' and\n",
      " |        'xmlcharrefreplace' as well as any other name registered with\n",
      " |        codecs.register_error that can handle UnicodeEncodeErrors.\n",
      " |  \n",
      " |  endswith(...)\n",
      " |      S.endswith(suffix[, start[, end]]) -> bool\n",
      " |      \n",
      " |      Return True if S ends with the specified suffix, False otherwise.\n",
      " |      With optional start, test S beginning at that position.\n",
      " |      With optional end, stop comparing S at that position.\n",
      " |      suffix can also be a tuple of strings to try.\n",
      " |  \n",
      " |  expandtabs(self, /, tabsize=8)\n",
      " |      Return a copy where all tab characters are expanded using spaces.\n",
      " |      \n",
      " |      If tabsize is not given, a tab size of 8 characters is assumed.\n",
      " |  \n",
      " |  find(...)\n",
      " |      S.find(sub[, start[, end]]) -> int\n",
      " |      \n",
      " |      Return the lowest index in S where substring sub is found,\n",
      " |      such that sub is contained within S[start:end].  Optional\n",
      " |      arguments start and end are interpreted as in slice notation.\n",
      " |      \n",
      " |      Return -1 on failure.\n",
      " |  \n",
      " |  format(...)\n",
      " |      S.format(*args, **kwargs) -> str\n",
      " |      \n",
      " |      Return a formatted version of S, using substitutions from args and kwargs.\n",
      " |      The substitutions are identified by braces ('{' and '}').\n",
      " |  \n",
      " |  format_map(...)\n",
      " |      S.format_map(mapping) -> str\n",
      " |      \n",
      " |      Return a formatted version of S, using substitutions from mapping.\n",
      " |      The substitutions are identified by braces ('{' and '}').\n",
      " |  \n",
      " |  index(...)\n",
      " |      S.index(sub[, start[, end]]) -> int\n",
      " |      \n",
      " |      Return the lowest index in S where substring sub is found,\n",
      " |      such that sub is contained within S[start:end].  Optional\n",
      " |      arguments start and end are interpreted as in slice notation.\n",
      " |      \n",
      " |      Raises ValueError when the substring is not found.\n",
      " |  \n",
      " |  isalnum(self, /)\n",
      " |      Return True if the string is an alpha-numeric string, False otherwise.\n",
      " |      \n",
      " |      A string is alpha-numeric if all characters in the string are alpha-numeric and\n",
      " |      there is at least one character in the string.\n",
      " |  \n",
      " |  isalpha(self, /)\n",
      " |      Return True if the string is an alphabetic string, False otherwise.\n",
      " |      \n",
      " |      A string is alphabetic if all characters in the string are alphabetic and there\n",
      " |      is at least one character in the string.\n",
      " |  \n",
      " |  isascii(self, /)\n",
      " |      Return True if all characters in the string are ASCII, False otherwise.\n",
      " |      \n",
      " |      ASCII characters have code points in the range U+0000-U+007F.\n",
      " |      Empty string is ASCII too.\n",
      " |  \n",
      " |  isdecimal(self, /)\n",
      " |      Return True if the string is a decimal string, False otherwise.\n",
      " |      \n",
      " |      A string is a decimal string if all characters in the string are decimal and\n",
      " |      there is at least one character in the string.\n",
      " |  \n",
      " |  isdigit(self, /)\n",
      " |      Return True if the string is a digit string, False otherwise.\n",
      " |      \n",
      " |      A string is a digit string if all characters in the string are digits and there\n",
      " |      is at least one character in the string.\n",
      " |  \n",
      " |  isidentifier(self, /)\n",
      " |      Return True if the string is a valid Python identifier, False otherwise.\n",
      " |      \n",
      " |      Call keyword.iskeyword(s) to test whether string s is a reserved identifier,\n",
      " |      such as \"def\" or \"class\".\n",
      " |  \n",
      " |  islower(self, /)\n",
      " |      Return True if the string is a lowercase string, False otherwise.\n",
      " |      \n",
      " |      A string is lowercase if all cased characters in the string are lowercase and\n",
      " |      there is at least one cased character in the string.\n",
      " |  \n",
      " |  isnumeric(self, /)\n",
      " |      Return True if the string is a numeric string, False otherwise.\n",
      " |      \n",
      " |      A string is numeric if all characters in the string are numeric and there is at\n",
      " |      least one character in the string.\n",
      " |  \n",
      " |  isprintable(self, /)\n",
      " |      Return True if the string is printable, False otherwise.\n",
      " |      \n",
      " |      A string is printable if all of its characters are considered printable in\n",
      " |      repr() or if it is empty.\n",
      " |  \n",
      " |  isspace(self, /)\n",
      " |      Return True if the string is a whitespace string, False otherwise.\n",
      " |      \n",
      " |      A string is whitespace if all characters in the string are whitespace and there\n",
      " |      is at least one character in the string.\n",
      " |  \n",
      " |  istitle(self, /)\n",
      " |      Return True if the string is a title-cased string, False otherwise.\n",
      " |      \n",
      " |      In a title-cased string, upper- and title-case characters may only\n",
      " |      follow uncased characters and lowercase characters only cased ones.\n",
      " |  \n",
      " |  isupper(self, /)\n",
      " |      Return True if the string is an uppercase string, False otherwise.\n",
      " |      \n",
      " |      A string is uppercase if all cased characters in the string are uppercase and\n",
      " |      there is at least one cased character in the string.\n",
      " |  \n",
      " |  join(self, iterable, /)\n",
      " |      Concatenate any number of strings.\n",
      " |      \n",
      " |      The string whose method is called is inserted in between each given string.\n",
      " |      The result is returned as a new string.\n",
      " |      \n",
      " |      Example: '.'.join(['ab', 'pq', 'rs']) -> 'ab.pq.rs'\n",
      " |  \n",
      " |  ljust(self, width, fillchar=' ', /)\n",
      " |      Return a left-justified string of length width.\n",
      " |      \n",
      " |      Padding is done using the specified fill character (default is a space).\n",
      " |  \n",
      " |  lower(self, /)\n",
      " |      Return a copy of the string converted to lowercase.\n",
      " |  \n",
      " |  lstrip(self, chars=None, /)\n",
      " |      Return a copy of the string with leading whitespace removed.\n",
      " |      \n",
      " |      If chars is given and not None, remove characters in chars instead.\n",
      " |  \n",
      " |  partition(self, sep, /)\n",
      " |      Partition the string into three parts using the given separator.\n",
      " |      \n",
      " |      This will search for the separator in the string.  If the separator is found,\n",
      " |      returns a 3-tuple containing the part before the separator, the separator\n",
      " |      itself, and the part after it.\n",
      " |      \n",
      " |      If the separator is not found, returns a 3-tuple containing the original string\n",
      " |      and two empty strings.\n",
      " |  \n",
      " |  removeprefix(self, prefix, /)\n",
      " |      Return a str with the given prefix string removed if present.\n",
      " |      \n",
      " |      If the string starts with the prefix string, return string[len(prefix):].\n",
      " |      Otherwise, return a copy of the original string.\n",
      " |  \n",
      " |  removesuffix(self, suffix, /)\n",
      " |      Return a str with the given suffix string removed if present.\n",
      " |      \n",
      " |      If the string ends with the suffix string and that suffix is not empty,\n",
      " |      return string[:-len(suffix)]. Otherwise, return a copy of the original\n",
      " |      string.\n",
      " |  \n",
      " |  replace(self, old, new, count=-1, /)\n",
      " |      Return a copy with all occurrences of substring old replaced by new.\n",
      " |      \n",
      " |        count\n",
      " |          Maximum number of occurrences to replace.\n",
      " |          -1 (the default value) means replace all occurrences.\n",
      " |      \n",
      " |      If the optional argument count is given, only the first count occurrences are\n",
      " |      replaced.\n",
      " |  \n",
      " |  rfind(...)\n",
      " |      S.rfind(sub[, start[, end]]) -> int\n",
      " |      \n",
      " |      Return the highest index in S where substring sub is found,\n",
      " |      such that sub is contained within S[start:end].  Optional\n",
      " |      arguments start and end are interpreted as in slice notation.\n",
      " |      \n",
      " |      Return -1 on failure.\n",
      " |  \n",
      " |  rindex(...)\n",
      " |      S.rindex(sub[, start[, end]]) -> int\n",
      " |      \n",
      " |      Return the highest index in S where substring sub is found,\n",
      " |      such that sub is contained within S[start:end].  Optional\n",
      " |      arguments start and end are interpreted as in slice notation.\n",
      " |      \n",
      " |      Raises ValueError when the substring is not found.\n",
      " |  \n",
      " |  rjust(self, width, fillchar=' ', /)\n",
      " |      Return a right-justified string of length width.\n",
      " |      \n",
      " |      Padding is done using the specified fill character (default is a space).\n",
      " |  \n",
      " |  rpartition(self, sep, /)\n",
      " |      Partition the string into three parts using the given separator.\n",
      " |      \n",
      " |      This will search for the separator in the string, starting at the end. If\n",
      " |      the separator is found, returns a 3-tuple containing the part before the\n",
      " |      separator, the separator itself, and the part after it.\n",
      " |      \n",
      " |      If the separator is not found, returns a 3-tuple containing two empty strings\n",
      " |      and the original string.\n",
      " |  \n",
      " |  rsplit(self, /, sep=None, maxsplit=-1)\n",
      " |      Return a list of the words in the string, using sep as the delimiter string.\n",
      " |      \n",
      " |        sep\n",
      " |          The delimiter according which to split the string.\n",
      " |          None (the default value) means split according to any whitespace,\n",
      " |          and discard empty strings from the result.\n",
      " |        maxsplit\n",
      " |          Maximum number of splits to do.\n",
      " |          -1 (the default value) means no limit.\n",
      " |      \n",
      " |      Splits are done starting at the end of the string and working to the front.\n",
      " |  \n",
      " |  rstrip(self, chars=None, /)\n",
      " |      Return a copy of the string with trailing whitespace removed.\n",
      " |      \n",
      " |      If chars is given and not None, remove characters in chars instead.\n",
      " |  \n",
      " |  split(self, /, sep=None, maxsplit=-1)\n",
      " |      Return a list of the words in the string, using sep as the delimiter string.\n",
      " |      \n",
      " |      sep\n",
      " |        The delimiter according which to split the string.\n",
      " |        None (the default value) means split according to any whitespace,\n",
      " |        and discard empty strings from the result.\n",
      " |      maxsplit\n",
      " |        Maximum number of splits to do.\n",
      " |        -1 (the default value) means no limit.\n",
      " |  \n",
      " |  splitlines(self, /, keepends=False)\n",
      " |      Return a list of the lines in the string, breaking at line boundaries.\n",
      " |      \n",
      " |      Line breaks are not included in the resulting list unless keepends is given and\n",
      " |      true.\n",
      " |  \n",
      " |  startswith(...)\n",
      " |      S.startswith(prefix[, start[, end]]) -> bool\n",
      " |      \n",
      " |      Return True if S starts with the specified prefix, False otherwise.\n",
      " |      With optional start, test S beginning at that position.\n",
      " |      With optional end, stop comparing S at that position.\n",
      " |      prefix can also be a tuple of strings to try.\n",
      " |  \n",
      " |  strip(self, chars=None, /)\n",
      " |      Return a copy of the string with leading and trailing whitespace removed.\n",
      " |      \n",
      " |      If chars is given and not None, remove characters in chars instead.\n",
      " |  \n",
      " |  swapcase(self, /)\n",
      " |      Convert uppercase characters to lowercase and lowercase characters to uppercase.\n",
      " |  \n",
      " |  title(self, /)\n",
      " |      Return a version of the string where each word is titlecased.\n",
      " |      \n",
      " |      More specifically, words start with uppercased characters and all remaining\n",
      " |      cased characters have lower case.\n",
      " |  \n",
      " |  translate(self, table, /)\n",
      " |      Replace each character in the string using the given translation table.\n",
      " |      \n",
      " |        table\n",
      " |          Translation table, which must be a mapping of Unicode ordinals to\n",
      " |          Unicode ordinals, strings, or None.\n",
      " |      \n",
      " |      The table must implement lookup/indexing via __getitem__, for instance a\n",
      " |      dictionary or list.  If this operation raises LookupError, the character is\n",
      " |      left untouched.  Characters mapped to None are deleted.\n",
      " |  \n",
      " |  upper(self, /)\n",
      " |      Return a copy of the string converted to uppercase.\n",
      " |  \n",
      " |  zfill(self, width, /)\n",
      " |      Pad a numeric string with zeros on the left, to fill a field of the given width.\n",
      " |      \n",
      " |      The string is never truncated.\n",
      " |  \n",
      " |  ----------------------------------------------------------------------\n",
      " |  Static methods defined here:\n",
      " |  \n",
      " |  __new__(*args, **kwargs) from builtins.type\n",
      " |      Create and return a new object.  See help(type) for accurate signature.\n",
      " |  \n",
      " |  maketrans(...)\n",
      " |      Return a translation table usable for str.translate().\n",
      " |      \n",
      " |      If there is only one argument, it must be a dictionary mapping Unicode\n",
      " |      ordinals (integers) or characters to Unicode ordinals, strings or None.\n",
      " |      Character keys will be then converted to ordinals.\n",
      " |      If there are two arguments, they must be strings of equal length, and\n",
      " |      in the resulting dictionary, each character in x will be mapped to the\n",
      " |      character at the same position in y. If there is a third argument, it\n",
      " |      must be a string, whose characters will be mapped to None in the result.\n",
      "\n"
     ]
    }
   ],
   "source": [
    "help(str)  ## getting help in Python"
   ]
  },
  {
   "cell_type": "markdown",
   "id": "29af49ec-a555-4df9-afcc-274e70bad06a",
   "metadata": {},
   "source": [
    "In the code fragment, a string is alloted to a variable; later, the variable behaves like a repository for the string value. \n",
    "The remaining four given below (lists, tuples, sets and dictionaries) are used (by Python coders) as data structures instead of data types. Data structures are primary functional units that arrange data so that it can be used well by the program or application which is being dealt with.\n",
    "Although the coders mainly prefer using the data structures, they still need to be aware of the primary data types (Eg.numbers, strings).\n"
   ]
  },
  {
   "cell_type": "markdown",
   "id": "081737c6-dd46-4f60-b996-745360227eaf",
   "metadata": {},
   "source": [
    "## **Lists**\n",
    "Lists are data chains. \n",
    "In order to make a list, the components are first confined(separated by commas) inside square brackets.\n",
    "Every component of a list is naturally given an index number(starting from 0). Each member can be approached using the index so that the regular components of the list can come back.\n",
    "If long data sets need to be collected and reviewed, its preferred to use lists as a data store in a list makes the withdrawal of statistical data really simple.\n",
    "An example of a list:"
   ]
  },
  {
   "cell_type": "code",
   "execution_count": 20,
   "id": "d4ef37b3-5b37-4ec7-a197-ff44b121f293",
   "metadata": {},
   "outputs": [
    {
     "name": "stdout",
     "output_type": "stream",
     "text": [
      "average\n",
      "84.6\n"
     ]
    }
   ],
   "source": [
    "example2= [\"Rollno\", \"Name\", \"score\", \"average\"] #string list\n",
    "\n",
    "rollno= [20,40,130,243,513]                                #roll-number list\n",
    "score= [90,80,89,75,89]\n",
    "rollno[4]\n",
    "\n",
    "expr= example2[3]      #Code for access of a specific component within given list\n",
    "print(expr)\n",
    "L= len(rollno)\n",
    "avg= sum(score)/L      #Calculation using the list\n",
    "print(avg)"
   ]
  },
  {
   "cell_type": "markdown",
   "id": "98fa09cc-4fa7-49a4-a1f8-7f2d7ce191c9",
   "metadata": {},
   "source": [
    "## **Tuples**\n",
    "Tuples are similar to lists, but their content cannot be altered after creation. While creating a tuple, normal brackets are used instead of square ones. If the data needs to be kept in the the read-only format, a format of tuples can be used for data representation. \n",
    "Given below is an example of a tuple--\n"
   ]
  },
  {
   "cell_type": "code",
   "execution_count": 53,
   "id": "25434367-76f1-4397-a9ba-215bca0789d4",
   "metadata": {},
   "outputs": [
    {
     "name": "stdout",
     "output_type": "stream",
     "text": [
      "243\n"
     ]
    }
   ],
   "source": [
    "rollno= (20,40,130,243,513)                                #roll-number tuple\n",
    "print(rollno[3])                                               #invalid syntax"
   ]
  },
  {
   "cell_type": "code",
   "execution_count": 54,
   "id": "5a8cdebb-b1de-469d-a570-a7f529da739c",
   "metadata": {},
   "outputs": [
    {
     "ename": "TypeError",
     "evalue": "'tuple' object does not support item assignment",
     "output_type": "error",
     "traceback": [
      "\u001b[0;31m---------------------------------------------------------------------------\u001b[0m",
      "\u001b[0;31mTypeError\u001b[0m                                 Traceback (most recent call last)",
      "\u001b[0;32m/tmp/ipykernel_12381/3305906853.py\u001b[0m in \u001b[0;36m<module>\u001b[0;34m\u001b[0m\n\u001b[0;32m----> 1\u001b[0;31m \u001b[0mrollno\u001b[0m\u001b[0;34m[\u001b[0m\u001b[0;36m3\u001b[0m\u001b[0;34m]\u001b[0m \u001b[0;34m=\u001b[0m \u001b[0;36m244\u001b[0m \u001b[0;31m# gives an error!! tuples cannot be changed\u001b[0m\u001b[0;34m\u001b[0m\u001b[0;34m\u001b[0m\u001b[0m\n\u001b[0m",
      "\u001b[0;31mTypeError\u001b[0m: 'tuple' object does not support item assignment"
     ]
    }
   ],
   "source": [
    "rollno[3] = 244 # gives an error!! tuples cannot be changed"
   ]
  },
  {
   "cell_type": "markdown",
   "id": "3eea21f5-d037-4db8-862a-cc924443c8ab",
   "metadata": {
    "tags": []
   },
   "source": [
    "## **Sets**\n",
    "A set is another data collection like a list. But, it is unordered and cannot have _duplicate_ items. Unlike lists, no index number can be used to refer to any item of a set. All you can\n",
    "do is check the membership of an item in a set.\n",
    "\n",
    "_A Set display_: Comma-separated values and the curly brackets({}) indicate a set; the brackets enclose the elements of the set."
   ]
  },
  {
   "cell_type": "code",
   "execution_count": 5,
   "id": "216c0ca5-0e47-42b7-aa84-6e75733201e7",
   "metadata": {},
   "outputs": [
    {
     "data": {
      "text/plain": [
       "{'A', 'C', 'G', 'T'}"
      ]
     },
     "execution_count": 5,
     "metadata": {},
     "output_type": "execute_result"
    }
   ],
   "source": [
    "set('TCAGTTAT')           #An alphabetically organized set of elements (Result in Python 3):"
   ]
  },
  {
   "cell_type": "markdown",
   "id": "9319590d-d948-427f-a9ec-4db26b1c15c0",
   "metadata": {},
   "source": [
    "Converting the string 'TCAGTTAT' to a set removed all the duplicates and gave us the unique items(characters) in the  string. You will note that sets are represented as comma-separated items, enclosed in curly brackets.  You can also create a set by enclosing a comma-separated list of items in curly brackets as follows:"
   ]
  },
  {
   "cell_type": "code",
   "execution_count": 6,
   "id": "154b086e-31ea-450c-aec5-66f55559accd",
   "metadata": {},
   "outputs": [
    {
     "data": {
      "text/plain": [
       "{'A', 'C', 'G', 'T'}"
      ]
     },
     "execution_count": 6,
     "metadata": {},
     "output_type": "execute_result"
    }
   ],
   "source": [
    "another_set = {'A','A','C','G','T'}\n",
    "another_set"
   ]
  },
  {
   "cell_type": "markdown",
   "id": "37fd45bb-7596-4ba6-b2a2-dae107536963",
   "metadata": {},
   "source": [
    "Note how duplicate items show up only once.  To create an empty set, do the following:"
   ]
  },
  {
   "cell_type": "code",
   "execution_count": 7,
   "id": "056fd1c5-55de-44a9-ac05-73a1f49a2677",
   "metadata": {},
   "outputs": [
    {
     "data": {
      "text/plain": [
       "set()"
      ]
     },
     "execution_count": 7,
     "metadata": {},
     "output_type": "execute_result"
    }
   ],
   "source": [
    "empty = set()\n",
    "empty"
   ]
  },
  {
   "cell_type": "markdown",
   "id": "31cc36d8-0530-4d35-bee3-10f3e0058580",
   "metadata": {},
   "source": [
    "Empty braces do not create a hollow set, but calling set without arguments does as we saw above.  Empty braces on the other hand create an empty dictionary.\n",
    "\n",
    "Let's observe a few more diverse examples:"
   ]
  },
  {
   "cell_type": "code",
   "execution_count": 8,
   "id": "62a3e07e-f6f5-4f21-a179-1310cc83c862",
   "metadata": {},
   "outputs": [
    {
     "data": {
      "text/plain": [
       "{'A', 'C', 'G', 'T'}"
      ]
     },
     "execution_count": 8,
     "metadata": {},
     "output_type": "execute_result"
    }
   ],
   "source": [
    "DNApues = {'G','T','A','C'}          #Genetic variables (Purines)\n",
    "DNApues                              #Output(Result): Alphabetically organized set"
   ]
  },
  {
   "cell_type": "code",
   "execution_count": 9,
   "id": "207902cf-dec8-4240-9f98-10150bfc2761",
   "metadata": {},
   "outputs": [
    {
     "data": {
      "text/plain": [
       "{'A', 'C', 'G', 'U'}"
      ]
     },
     "execution_count": 9,
     "metadata": {},
     "output_type": "execute_result"
    }
   ],
   "source": [
    "RNApyrms = {'G','U','A','C'}          #Genetic variables (Pyrimidines)\n",
    "RNApyrms                              #Output(Result): Alphabetically organized set"
   ]
  },
  {
   "cell_type": "code",
   "execution_count": 10,
   "id": "9ff5d2dd-20b1-4c5e-824d-7b2132e2057e",
   "metadata": {},
   "outputs": [
    {
     "data": {
      "text/plain": [
       "{'TCAG', 'UCAG'}"
      ]
     },
     "execution_count": 10,
     "metadata": {},
     "output_type": "execute_result"
    }
   ],
   "source": [
    "#When a group of strings, held in braces makes a set, no string is broken into components\n",
    "{'UCAG', 'TCAG'}     "
   ]
  },
  {
   "cell_type": "code",
   "execution_count": 13,
   "id": "8e7f1a3f-7f58-41d0-bfe4-8968a118afcb",
   "metadata": {
    "tags": []
   },
   "outputs": [],
   "source": [
    "A = DNApues\n",
    "B = RNApyrms"
   ]
  },
  {
   "cell_type": "code",
   "execution_count": 14,
   "id": "a4b07a0e-a46d-43fa-98cf-cd3f46c8b1cb",
   "metadata": {},
   "outputs": [
    {
     "name": "stdout",
     "output_type": "stream",
     "text": [
      "{'T'}\n"
     ]
    }
   ],
   "source": [
    "diffrA = A - B\n",
    "print(diffrA)                     #The output is the unique data present only in set A"
   ]
  },
  {
   "cell_type": "code",
   "execution_count": 15,
   "id": "1dcfee35-e2ea-4c5b-b587-acbbac5aa166",
   "metadata": {},
   "outputs": [
    {
     "name": "stdout",
     "output_type": "stream",
     "text": [
      "{'U'}\n"
     ]
    }
   ],
   "source": [
    "diffrB = B - A\n",
    "print(diffrB)                     #The output is the unique data present only in set B"
   ]
  },
  {
   "cell_type": "markdown",
   "id": "f69b8668-5ab8-4a93-a58e-a62e42606198",
   "metadata": {},
   "source": [
    "The output in this case is (A $\\cap$ B):"
   ]
  },
  {
   "cell_type": "code",
   "execution_count": 18,
   "id": "fe065644-5f02-4a13-8a02-842a1c5d15b1",
   "metadata": {},
   "outputs": [
    {
     "name": "stdout",
     "output_type": "stream",
     "text": [
      "{'G', 'A', 'C'}\n"
     ]
    }
   ],
   "source": [
    "print(A.intersection(B))       #The output is the common data present in both sets (A & B)"
   ]
  },
  {
   "cell_type": "code",
   "execution_count": 19,
   "id": "596f068d-5c39-4f0e-aa39-02eaebd464c9",
   "metadata": {},
   "outputs": [
    {
     "name": "stdout",
     "output_type": "stream",
     "text": [
      "{'T', 'U', 'A', 'C', 'G'}\n"
     ]
    }
   ],
   "source": [
    "print(A.union(B))       #The output is a set with all data present in A or B (in any order)"
   ]
  },
  {
   "cell_type": "markdown",
   "id": "f04cf06c-d81f-4eca-bc52-e6632a89cd4c",
   "metadata": {},
   "source": [
    "## **Dictionaries**\n",
    "A dictionary is a data structure with pairs of keys and values in which every value corresponds to a particular key and the value can eventually be accessed using the key. The given code-example represents a key/value pairing syntax:"
   ]
  },
  {
   "cell_type": "code",
   "execution_count": 55,
   "id": "4cde8c50-f675-41c2-8296-53b10758ff68",
   "metadata": {},
   "outputs": [
    {
     "name": "stdout",
     "output_type": "stream",
     "text": [
      "score\n",
      "average\n",
      "Shobha\n",
      "75\n",
      "93\n"
     ]
    }
   ],
   "source": [
    "example4={\"Rollno\":513, \"Name\":\"Shobha\", \"score\":75, \"total\":93}\n",
    "print(example2[2])\n",
    "print(example2[3])\n",
    "print(example4[\"Name\"])\n",
    "print(example4[\"score\"])\n",
    "print(example4[\"total\"])\n"
   ]
  },
  {
   "cell_type": "code",
   "execution_count": 56,
   "id": "f7b7fbcf-3b63-4ca5-90db-756a36b26a01",
   "metadata": {},
   "outputs": [
    {
     "data": {
      "text/plain": [
       "2"
      ]
     },
     "execution_count": 56,
     "metadata": {},
     "output_type": "execute_result"
    }
   ],
   "source": [
    "M = {'fruits': 2, 'cake': 1, 'snax': 3}\n",
    "M['fruits']                              #Code to get a value by key-mention."
   ]
  },
  {
   "cell_type": "code",
   "execution_count": 57,
   "id": "b02956d3-b2ba-4be7-a313-f79815dd8199",
   "metadata": {},
   "outputs": [
    {
     "data": {
      "text/plain": [
       "{'fruits': 2, 'cake': 1, 'snax': 3}"
      ]
     },
     "execution_count": 57,
     "metadata": {},
     "output_type": "execute_result"
    }
   ],
   "source": [
    "M                                        #Same order as given input."
   ]
  },
  {
   "cell_type": "markdown",
   "id": "f6724abf-b839-405c-968e-478fbf074ff8",
   "metadata": {},
   "source": [
    "## **Conclusion**\n",
    "\n",
    "With its intuitive data structures, and ease of learning, Python gives us researchers the\n",
    "ability to view, manipulate and process our data in unique ways.\n",
    "\n",
    "What we have learned so far are the fundamental concepts and programming constructs that\n",
    "can help us build more advanced techniques to process research data in Life Sciences or for that matter, any field of scientific endeavour.\n",
    "\n",
    "\n",
    "Systematic methods can be used under a useful software like Python 3 to organize data obtained for research areas. The software is related to an Object-Oriented-Programming Language with a well-defined syntax which is quite open for any modified updates. The influential updates are responsible for the creation of new versions of the software. The broadly explained and effective software version (Python 3) for research in different subject areas is certainly a recent one. \n",
    "The different subject areas require organized research in diverse and weighty repositories of data science. The explained software is the most helpful tool for practical usage. A life science is a good example of a diverse repository with maximum research areas that involve the application of Python 3 for the arrangement of all interesting kinds of data.\n",
    "The random steps for the organization of data in the life sciences are mostly non-linear and diverse. It is due to the variety of these subjects that they do not follow a single linear protocol for any activity."
   ]
  },
  {
   "cell_type": "markdown",
   "id": "f7dccdfd-0f2e-4084-a291-88a2130330c7",
   "metadata": {},
   "source": [
    "## Quiz"
   ]
  },
  {
   "cell_type": "markdown",
   "id": "5b4722af-323c-4c1e-81ee-e36b435df6fe",
   "metadata": {
    "tags": []
   },
   "source": [
    "### Another turn for a set of subtopics -- Lists, Tuples, Sets and Dictionaries\n",
    "Run this short quiz to check your understanding.\n",
    "\n",
    "1. List all even integers between 1 and 10.  What do you get?\n",
    "\n",
    "2. Give an example of consistent data in the form of a Tuple.(Do not try to change It)\n",
    "\n",
    "3. Convert any String into a Set of Letters.\n",
    "\n",
    "4. Give a dataset(keys and values) in curly brackets(Dictionary) that represents partly\n",
    "   organized data.\n",
    "\n",
    "5. Can you show that (A $\\cup$ B)' = A' $\\cap$ B'"
   ]
  },
  {
   "cell_type": "code",
   "execution_count": 6,
   "id": "81d5a23f-2705-491b-90d4-562f5a43ef80",
   "metadata": {},
   "outputs": [
    {
     "name": "stdout",
     "output_type": "stream",
     "text": [
      " \n",
      "(1.)A list of even numbers (1-10): [2, 4, 6, 8, 10]\n",
      " \n",
      "(2.)A single member of the tuple with a specific index no.: Red\n",
      " \n",
      "(3.)The entire set of unique components within a sequence: {'N', 'W', 'K', 'P', 'V', 'H', 'L', 'I', '\\n', 'S', 'Y', 'A', 'M', 'R', 'G', 'E', 'T', ' ', 'F', 'D'}\n",
      " \n",
      "(4.) A specific Value as output by Key-mention: mammal\n"
     ]
    }
   ],
   "source": [
    "#Key examples related to Quiz.\n",
    "\n",
    "list = [2,4,6,8,10]\n",
    "print(' ')\n",
    "print('(1.)A list of even numbers (1-10):', list)                  \n",
    "#-------------------------------\n",
    "\n",
    "pri_col = ('Blue','Red','Green')            #Tuple with primary colours from a rainbow\n",
    "print(' ')\n",
    "print('(2.)A single member of the tuple with a specific index no.:', pri_col[1])     \n",
    "#------------------------------\n",
    "\n",
    "aaseq = '''MWNSNLPKPN AIYVYGVANA NITFFKGSDI LSYETREVLL KYFDILDKDE RSLKNALKD LEN PFGFAPYI\n",
    "RKAYEHKRNF LTTTRLKASF RPTTF'''   #Bacterial Restriction enzyme (Amino acid sequence)\n",
    "len(aaseq)                       #Length of entire string within quotes (including spaces)\n",
    "print(' ')\n",
    "print('(3.)The entire set of unique components within a sequence:', set(aaseq))              \n",
    "#------------------------------     #Output within curly brackets\n",
    "\n",
    "aspects = {'name':'mouse', 'group':'mammal', 'genes':30000}\n",
    "print(' ')\n",
    "print('(4.) A specific Value as output by Key-mention:', aspects['group'])          \n",
    "\n",
    "                #-------------------x-------------------\n"
   ]
  },
  {
   "cell_type": "code",
   "execution_count": null,
   "id": "02839274-ceed-4a93-8992-719f5ba2db05",
   "metadata": {},
   "outputs": [],
   "source": []
  }
 ],
 "metadata": {
  "kernelspec": {
   "display_name": "Python 3 (ipykernel)",
   "language": "python",
   "name": "python3"
  },
  "language_info": {
   "codemirror_mode": {
    "name": "ipython",
    "version": 3
   },
   "file_extension": ".py",
   "mimetype": "text/x-python",
   "name": "python",
   "nbconvert_exporter": "python",
   "pygments_lexer": "ipython3",
   "version": "3.9.5"
  },
  "toc-autonumbering": false,
  "toc-showcode": false,
  "toc-showmarkdowntxt": false,
  "toc-showtags": false
 },
 "nbformat": 4,
 "nbformat_minor": 5
}
